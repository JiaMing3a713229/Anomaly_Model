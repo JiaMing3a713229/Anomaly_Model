{
 "cells": [
  {
   "cell_type": "code",
   "execution_count": 63,
   "id": "7d239226-bd99-496d-a67e-54d1a7c4af78",
   "metadata": {},
   "outputs": [],
   "source": [
    "import tensorflow as tf\n",
    "import pandas as pd\n",
    "import numpy as np\n",
    "import matplotlib.pyplot as plt"
   ]
  },
  {
   "cell_type": "markdown",
   "id": "48f60c83-28e4-4638-a8ad-2c854e565604",
   "metadata": {},
   "source": [
    "#### 載入Modle模型參數"
   ]
  },
  {
   "cell_type": "code",
   "execution_count": 64,
   "id": "b9bc897d-ab21-421a-93b3-d9872815538a",
   "metadata": {},
   "outputs": [
    {
     "name": "stdout",
     "output_type": "stream",
     "text": [
      "Model: \"sequential_3\"\n",
      "_________________________________________________________________\n",
      " Layer (type)                Output Shape              Param #   \n",
      "=================================================================\n",
      " conv2d_9 (Conv2D)           (None, 19, 6, 32)         224       \n",
      "                                                                 \n",
      " conv2d_10 (Conv2D)          (None, 19, 6, 64)         12352     \n",
      "                                                                 \n",
      " conv2d_transpose_6 (Conv2DT  (None, 19, 6, 64)        24640     \n",
      " ranspose)                                                       \n",
      "                                                                 \n",
      " conv2d_transpose_7 (Conv2DT  (None, 19, 6, 32)        12320     \n",
      " ranspose)                                                       \n",
      "                                                                 \n",
      " conv2d_11 (Conv2D)          (None, 19, 6, 1)          193       \n",
      "                                                                 \n",
      "=================================================================\n",
      "Total params: 49,729\n",
      "Trainable params: 49,729\n",
      "Non-trainable params: 0\n",
      "_________________________________________________________________\n"
     ]
    }
   ],
   "source": [
    "model_path = './Anomaly_model'\n",
    "model = tf.keras.models.load_model(model_path)\n",
    "model.summary()"
   ]
  },
  {
   "cell_type": "code",
   "execution_count": 65,
   "id": "054b61a0-1ff2-49c2-ad38-c8611ae3a7b3",
   "metadata": {},
   "outputs": [],
   "source": [
    "def insole_padding(padding_data):\n",
    "    padding_pos = [[0, 19],[0, 19],[0, 19],[1, 18],[8, 17],[10, 16]]\n",
    "    insole_arr = np.zeros((19,6))\n",
    "    row = 0\n",
    "    column = 0\n",
    "    i = 0\n",
    "    for start_pos, end_pos in padding_pos:\n",
    "        for k in range(start_pos, end_pos):\n",
    "            insole_arr[18 - k][5 - column] = padding_data[i]\n",
    "            i += 1\n",
    "        column += 1\n",
    "    return insole_arr"
   ]
  },
  {
   "cell_type": "markdown",
   "id": "38d7f15f-ee70-4abd-80e1-aa3fdd184226",
   "metadata": {},
   "source": [
    "#### 讀取CSV檔資料"
   ]
  },
  {
   "cell_type": "code",
   "execution_count": 66,
   "id": "5a3dbd68-cdaf-4fc9-8cac-4901cace622b",
   "metadata": {},
   "outputs": [
    {
     "name": "stdout",
     "output_type": "stream",
     "text": [
      "(6599, 89)\n",
      "(599, 89)\n"
     ]
    }
   ],
   "source": [
    "df = pd.read_csv('NormalData_L2.csv')\n",
    "df5 = pd.read_csv('Anomaly_L1.csv')\n",
    "\n",
    "print(df.shape)\n",
    "print(df5.shape)"
   ]
  },
  {
   "cell_type": "markdown",
   "id": "25815892-26c4-47a4-b53b-b0d6664a865e",
   "metadata": {},
   "source": [
    "#### df轉np"
   ]
  },
  {
   "cell_type": "code",
   "execution_count": 67,
   "id": "b35db4d1-ddd5-4190-a749-eeae532eb932",
   "metadata": {},
   "outputs": [
    {
     "name": "stdout",
     "output_type": "stream",
     "text": [
      "(6599, 89)\n",
      "(599, 89)\n"
     ]
    }
   ],
   "source": [
    "insole_normal_np = np.array(df)  \n",
    "insole_anomaly_np = np.array(df5)  \n",
    "print(insole_normal_np.shape)\n",
    "print(insole_anomaly_np.shape)"
   ]
  },
  {
   "cell_type": "markdown",
   "id": "87caa36d-3082-495a-bcf9-0b4658cf6d6e",
   "metadata": {},
   "source": [
    "####　填充資料至19*6"
   ]
  },
  {
   "cell_type": "code",
   "execution_count": 68,
   "id": "dcd2d52c-211d-49d2-8f48-1bd5f654ebaa",
   "metadata": {},
   "outputs": [
    {
     "name": "stdout",
     "output_type": "stream",
     "text": [
      "(6599, 19, 6)\n",
      "(599, 19, 6)\n"
     ]
    }
   ],
   "source": [
    "normal_datasets = []\n",
    "anomaly_datasets = []\n",
    "\n",
    "for i in range(insole_normal_np.shape[0]):\n",
    "    normal_datasets.append(insole_padding(insole_normal_np[i]))\n",
    "for i in range(insole_anomaly_np.shape[0]):\n",
    "    anomaly_datasets.append(insole_padding(insole_anomaly_np[i]))\n",
    "    \n",
    "normal_datasets = np.array(normal_datasets).astype(float)\n",
    "anomaly_datasets = np.array(anomaly_datasets).astype(float)\n",
    "\n",
    "print(normal_datasets.shape)\n",
    "print(anomaly_datasets.shape)"
   ]
  },
  {
   "cell_type": "markdown",
   "id": "682ce528-b154-4087-8c11-e0d06ef7d9bf",
   "metadata": {},
   "source": [
    "#### 轉換資料維度至(N,H,W,C) 並且除以255"
   ]
  },
  {
   "cell_type": "code",
   "execution_count": 69,
   "id": "294463cc-46fa-44e4-b438-cbe0f1f2fdb9",
   "metadata": {},
   "outputs": [
    {
     "name": "stdout",
     "output_type": "stream",
     "text": [
      "(6599, 19, 6, 1)\n",
      "(599, 19, 6, 1)\n"
     ]
    }
   ],
   "source": [
    "height = 19\n",
    "width = 6\n",
    "normal_datasets = normal_datasets.reshape(normal_datasets.shape[0], height, width, 1)\n",
    "anomaly_datasets = anomaly_datasets.reshape(anomaly_datasets.shape[0], height, width, 1)\n",
    "normal_datasets = normal_datasets / 255\n",
    "anomaly_datasets = anomaly_datasets / 255\n",
    "print(normal_datasets.shape)\n",
    "print(anomaly_datasets.shape)"
   ]
  },
  {
   "cell_type": "code",
   "execution_count": 70,
   "id": "d6a1dc16-cce9-45fd-9cfc-212f7a093fe5",
   "metadata": {},
   "outputs": [
    {
     "name": "stdout",
     "output_type": "stream",
     "text": [
      "207/207 [==============================] - 1s 3ms/step\n",
      "19/19 [==============================] - 0s 2ms/step\n",
      "Reconstruction Error: 0.038764651435485575\n",
      "Reconstruction Error: 0.711825632606633\n"
     ]
    }
   ],
   "source": [
    "# 使用训练好的模型进行预测\n",
    "decoded_samples = model.predict(normal_datasets)\n",
    "decoded_samples1 = model.predict(anomaly_datasets)\n",
    "\n",
    "# 计算重构误差\n",
    "mse = tf.keras.losses.MeanSquaredError()\n",
    "reconstruction_error = mse(normal_datasets, decoded_samples).numpy()\n",
    "print(f\"Reconstruction Error: {reconstruction_error * 10000}\")\n",
    "\n",
    "# 计算重构误差\n",
    "mse1 = tf.keras.losses.MeanSquaredError()\n",
    "reconstruction_error1 = mse1(anomaly_datasets, decoded_samples1).numpy()\n",
    "print(f\"Reconstruction Error: {reconstruction_error1 * 10000}\")"
   ]
  },
  {
   "cell_type": "code",
   "execution_count": null,
   "id": "9ca5f105-c786-4b19-8e77-d011be0513ed",
   "metadata": {},
   "outputs": [],
   "source": []
  },
  {
   "cell_type": "code",
   "execution_count": null,
   "id": "5e16372d-034b-4191-a8ce-d9df27147f15",
   "metadata": {},
   "outputs": [],
   "source": []
  }
 ],
 "metadata": {
  "kernelspec": {
   "display_name": "Python 3 (ipykernel)",
   "language": "python",
   "name": "python3"
  },
  "language_info": {
   "codemirror_mode": {
    "name": "ipython",
    "version": 3
   },
   "file_extension": ".py",
   "mimetype": "text/x-python",
   "name": "python",
   "nbconvert_exporter": "python",
   "pygments_lexer": "ipython3",
   "version": "3.9.15"
  }
 },
 "nbformat": 4,
 "nbformat_minor": 5
}
